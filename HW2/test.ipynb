{
 "cells": [
  {
   "cell_type": "code",
   "execution_count": 2,
   "metadata": {},
   "outputs": [],
   "source": [
    "import pandas as pd"
   ]
  },
  {
   "cell_type": "markdown",
   "metadata": {},
   "source": [
    "**Problem description and questions: We will analyze a dataset BankChurn.csv which had data of a bank’s customers and their churn. The descriptions of the columns are given below. Run \n",
    "both Random Forest and Support Vector Machines models on the data to predict whether a customer will churn or not (i.e., the target variable is “churn”) and answer the questions that follow on the next page.**\n",
    "\n",
    "- customer_id: Unique identifier for the customer.\n",
    "- credit_score: Customer's credit score.\n",
    "- country: The country of the customer (e.g., France, Spain, Germany).\n",
    "- gender: Customer's gender.\n",
    "- age: Customer's age.\n",
    "- tenure: Number of years the customer has been with the bank.\n",
    "- balance: Customer's account balance.\n",
    "- products_number: Number of bank products the customer is using.\n",
    "- credit_card: Indicates whether the customer has a credit card with the bank (1 = Yes, 0 = No).\n",
    "- active_member: Indicates whether the customer is an active member (1 = Yes, 0 = No).\n",
    "- estimated_salary: Customer's estimated salary.\n",
    "- churn: Indicates whether the customer has left the bank (1 = Yes, 0 = No).\n"
   ]
  }
 ],
 "metadata": {
  "kernelspec": {
   "display_name": ".venv",
   "language": "python",
   "name": "python3"
  },
  "language_info": {
   "codemirror_mode": {
    "name": "ipython",
    "version": 3
   },
   "file_extension": ".py",
   "mimetype": "text/x-python",
   "name": "python",
   "nbconvert_exporter": "python",
   "pygments_lexer": "ipython3",
   "version": "3.12.1"
  }
 },
 "nbformat": 4,
 "nbformat_minor": 2
}
